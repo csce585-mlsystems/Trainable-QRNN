{
 "cells": [
  {
   "cell_type": "code",
   "execution_count": null,
   "id": "5430727b",
   "metadata": {},
   "outputs": [],
   "source": [
    "import torch\n",
    "import torch.nn as nn\n",
    "import numpy as np\n",
    "import matplotlib.pyplot as plt\n",
    "from QRNN import QRNN\n",
    "\n",
    "# --- Hyperparameters (match training) ---\n",
    "N_QUBITS = 8\n",
    "REPEAT_BLOCKS = 1\n",
    "CONTEXT_LENGTH = 1\n",
    "PREDICTION_HORIZON = 1\n",
    "IN_DIM = 1\n",
    "OUT_DIM = 2\n",
    "SHOTS = 9000\n",
    "BATCH_SIZE = 1"
   ]
  },
  {
   "cell_type": "code",
   "execution_count": null,
   "id": "c962108e",
   "metadata": {},
   "outputs": [
    {
     "name": "stdout",
     "output_type": "stream",
     "text": [
      "Using device: cpu\n",
      "Test data shape: torch.Size([1, 1, 3]), Labels shape: torch.Size([1, 1, 2])\n"
     ]
    }
   ],
   "source": [
    "# Device\n",
    "device = torch.device(\"cuda\" if torch.cuda.is_available() else \"cpu\")\n",
    "print(\"Using device:\", device)\n",
    "# --- Load full Lorenz data ---\n",
    "try:\n",
    "    raw_data = np.load(\"train_data_lorenz_full.npy\")\n",
    "except FileNotFoundError:\n",
    "    print(\"Error: 'train_data_lorenz_full.npy' not found.\")\n",
    "    raise\n",
    "\n",
    "# Split into train/test\n",
    "split_index = int(len(raw_data) * 0.7)\n",
    "test_data = raw_data[split_index:]  # full test sequence\n",
    "\n",
    "# Input = only the driving dimension (col 0)\n",
    "# Labels = the prediction targets (col 1,2)\n",
    "X_test = torch.tensor(test_data[:, 0], dtype=torch.float32).view(1, -1, 1).to(device)  # shape (1, seq_len, in_dim)\n",
    "y_test = torch.tensor(test_data[:, 1:3], dtype=torch.float32).view(1, -1, OUT_DIM).to(device)\n",
    "\n",
    "\n",
    "# --- Build context-windowed test sequence ---\n",
    "inputs = []\n",
    "labels = []\n",
    "total_length = CONTEXT_LENGTH + PREDICTION_HORIZON\n",
    "\n",
    "for i in range(len(test_data) - total_length + 1):\n",
    "    # input = sliding window from first column\n",
    "    window = test_data[i : i + CONTEXT_LENGTH, 0]\n",
    "    inputs.append(window)\n",
    "\n",
    "    # label = future target from columns 1:3\n",
    "    label = test_data[i + CONTEXT_LENGTH + PREDICTION_HORIZON - 1, 1:3]\n",
    "    labels.append(label)\n",
    "\n",
    "inputs = inputs\n",
    "labels = labels\n",
    "\n",
    "X_test = torch.tensor(inputs, dtype=torch.float32).view(1, -1, CONTEXT_LENGTH * IN_DIM).to(device)\n",
    "y_test = torch.tensor(labels, dtype=torch.float32).view(1, -1, OUT_DIM).to(device)\n",
    "\n",
    "print(f\"Test data shape: {X_test.shape}, Labels shape: {y_test.shape}\")\n",
    "#model.sequence_length = X_test.shape[1]"
   ]
  },
  {
   "cell_type": "code",
   "execution_count": null,
   "id": "cd27c8d7",
   "metadata": {},
   "outputs": [
    {
     "name": "stdout",
     "output_type": "stream",
     "text": [
      "Params per timestep: 39\n",
      "✅ Loaded checkpoint from ./checkpoints/simple_block/higherlearn_lorenz_8_finite-diff-w_SIMPLE_1_1024_1_QRNN_600.pth\n"
     ]
    }
   ],
   "source": [
    "\n",
    "\n",
    "# --- Load pretrained model ---\n",
    "checkpoint_path = \"./checkpoints/lorenz_8_finite-diff-w_SIMPLE_1_1024_1_QRNN_1385_LAST.pth\"   # adjust to your checkpoint\n",
    "model = QRNN(\n",
    "    n_qubits=N_QUBITS,\n",
    "    repeat_blocks=REPEAT_BLOCKS,\n",
    "    in_dim=IN_DIM,\n",
    "    out_dim=OUT_DIM,\n",
    "    context_length=CONTEXT_LENGTH,\n",
    "    sequence_length=X_test.shape[1],   # we’ll set dynamically\n",
    "    batch_size=BATCH_SIZE,\n",
    "    grad_method=\"finite-diff\",\n",
    "    shots=SHOTS\n",
    ").to(device)\n",
    "\n",
    "model.load_state_dict(torch.load(checkpoint_path, map_location=device))\n",
    "model.eval()\n",
    "print(f\"✅ Loaded checkpoint from {checkpoint_path}\")\n"
   ]
  },
  {
   "cell_type": "code",
   "execution_count": 4,
   "id": "ea0279d3",
   "metadata": {},
   "outputs": [
    {
     "name": "stdout",
     "output_type": "stream",
     "text": [
      "input_layer.weight: tensor([[ 0.6226,  0.7850, -0.0708],\n",
      "        [-0.4007,  1.2561, -0.3618],\n",
      "        [-0.0264, -0.3157, -0.2055],\n",
      "        [-0.0254, -0.8061, -0.0863],\n",
      "        [ 0.0954,  0.7959,  0.4795],\n",
      "        [-0.1998,  0.7429,  0.3261],\n",
      "        [ 0.8982, -0.3367,  0.3847],\n",
      "        [-0.1720,  0.8635, -0.5288],\n",
      "        [-0.8506, -0.9377, -0.6725],\n",
      "        [-0.0851,  0.8933, -0.5841],\n",
      "        [-0.7436, -0.9932, -1.1200],\n",
      "        [ 0.1698,  0.2900, -0.4022],\n",
      "        [-0.7536,  0.8994, -0.2967],\n",
      "        [-0.3234, -0.7164, -0.6694],\n",
      "        [ 0.1567,  0.3451,  0.8730],\n",
      "        [-0.5578,  0.6087, -1.0370],\n",
      "        [ 1.0280,  0.9413,  1.0983],\n",
      "        [-0.4723, -0.0512, -0.8523],\n",
      "        [ 1.1334, -0.4282, -0.5947],\n",
      "        [ 0.3962, -0.3536, -0.2848],\n",
      "        [-0.1424, -0.5451, -0.9834],\n",
      "        [ 0.9485, -0.0298, -0.2934],\n",
      "        [ 0.3154,  0.3070, -0.7752],\n",
      "        [-0.7106, -0.1026, -0.7134],\n",
      "        [-0.9606,  0.4471, -0.6666],\n",
      "        [-0.4154, -0.1243, -0.5738],\n",
      "        [-0.2966,  0.0070,  0.9647],\n",
      "        [-1.0732,  0.3157,  0.9255],\n",
      "        [-0.5719, -0.8592, -0.4775],\n",
      "        [ 0.3859,  0.4792,  0.8562],\n",
      "        [-0.0515, -0.1958,  0.3654],\n",
      "        [-0.4993, -0.1670,  0.5010],\n",
      "        [-0.1787,  0.8104, -0.4779],\n",
      "        [-0.1541, -0.1249,  0.9590],\n",
      "        [ 1.2361,  0.6107, -0.0155],\n",
      "        [-0.6926, -0.8397,  0.6907],\n",
      "        [-0.7696, -0.3364, -0.3891],\n",
      "        [ 0.0596,  0.1578, -1.0201],\n",
      "        [ 0.0456, -0.9037,  0.0565]])\n",
      "input_layer.bias: tensor([-0.7267, -0.5685, -0.0540, -1.6659, -0.1338, -1.0050, -0.8736,  0.2210,\n",
      "         0.4064, -1.6648, -0.6574, -1.2230, -0.2611,  0.6277, -0.4352, -1.5633,\n",
      "         0.5306, -1.7655,  0.0596, -0.7410,  0.0448,  0.8005, -0.2879, -0.7442,\n",
      "        -1.1374, -0.1403, -1.4574, -0.3090, -0.6361, -0.2199, -0.0413, -0.1791,\n",
      "        -0.5801, -0.8164, -1.6915, -0.6357,  0.0248, -0.0537, -0.2696])\n",
      "output_layer.weight: tensor([[-0.9258, -1.0525,  0.0752,  0.8436,  0.0280, -0.6594, -0.6090, -0.0664,\n",
      "         -0.7897,  0.5315,  0.5091,  0.6750,  0.4666,  1.0449, -0.5552,  0.3985],\n",
      "        [ 0.2384, -1.1037,  0.1432, -0.7217, -0.2485, -0.9128, -0.3886,  0.5844,\n",
      "         -0.4821, -0.5661,  0.6868, -0.3005, -0.1783,  0.7512,  0.7557,  1.2951]])\n",
      "output_layer.bias: tensor([0.7464, 0.7373])\n"
     ]
    }
   ],
   "source": [
    "#Print model weights\n",
    "for name, param in model.named_parameters():\n",
    "    print(f\"{name}: {param.data}\")"
   ]
  },
  {
   "cell_type": "code",
   "execution_count": 5,
   "id": "e222b739",
   "metadata": {},
   "outputs": [
    {
     "name": "stdout",
     "output_type": "stream",
     "text": [
      "Input shape: torch.Size([1, 1, 3])\n",
      "Target shape: torch.Size([1, 1, 2])\n",
      "Predictions shape: (1, 1, 2)\n",
      "Targets shape: (1, 2)\n"
     ]
    }
   ],
   "source": [
    "print(\"Input shape:\", X_test.shape)\n",
    "print(\"Target shape:\", y_test.shape)\n",
    "\n",
    "# --- Run model on full test sequence ---\n",
    "with torch.no_grad():\n",
    "    preds,_ = model(X_test)\n",
    "\n",
    "preds = preds.cpu().numpy()   # (seq_len, out_dim)\n",
    "y_true = y_test.cpu().numpy()[0]\n",
    "\n",
    "print(\"Predictions shape:\", preds.shape)\n",
    "print(\"Targets shape:\", y_true.shape)\n",
    "\n",
    "# --- Plot results ---\n",
    "timesteps = np.arange(len(y_true))"
   ]
  },
  {
   "cell_type": "code",
   "execution_count": null,
   "id": "97557907",
   "metadata": {},
   "outputs": [],
   "source": []
  },
  {
   "cell_type": "code",
   "execution_count": 6,
   "id": "f826dca3",
   "metadata": {},
   "outputs": [],
   "source": [
    "preds = preds[0]"
   ]
  },
  {
   "cell_type": "code",
   "execution_count": null,
   "id": "60157640",
   "metadata": {},
   "outputs": [],
   "source": []
  },
  {
   "cell_type": "code",
   "execution_count": 7,
   "id": "953abcfa",
   "metadata": {},
   "outputs": [
    {
     "data": {
      "image/png": "[encoded data removed]",
      "text/plain": [
       "<Figure size 1200x800 with 2 Axes>"
      ]
     },
     "metadata": {},
     "output_type": "display_data"
    }
   ],
   "source": [
    "fig, axes = plt.subplots(2, 1, figsize=(12, 8), sharex=True)\n",
    "\n",
    "# --- Dimension 0 ---\n",
    "axes[0].plot(timesteps, y_true[:, 0], label=\"True Y\", color=\"green\")\n",
    "axes[0].plot(timesteps, preds[:, 0], \"--\", label=\"Pred Y\", color=\"red\")\n",
    "axes[0].set_ylabel(\"Lorenz Y\")\n",
    "axes[0].set_title(\"QRNN Predictions on Lorenz Test Sequence (8 Qubits)\")\n",
    "axes[0].legend()\n",
    "axes[0].grid(True)\n",
    "\n",
    "# --- Dimension 1 ---\n",
    "axes[1].plot(timesteps, y_true[:, 1], label=\"True Z\", color=\"green\")\n",
    "axes[1].plot(timesteps, preds[:, 1], \"--\", label=\"Pred Z\", color=\"red\")\n",
    "axes[1].set_xlabel(\"Timestep\")\n",
    "axes[1].set_ylabel(\"Lorenz Z\")\n",
    "axes[1].legend()\n",
    "axes[1].grid(True)\n",
    "\n",
    "plt.tight_layout()\n",
    "#plt.savefig('../results/lorenz_qrnn_finite-diff_8qubits_1blocks_1epoch.pdf')\n",
    "plt.show()\n"
   ]
  },
  {
   "cell_type": "code",
   "execution_count": 8,
   "id": "6700019b",
   "metadata": {},
   "outputs": [
    {
     "name": "stdout",
     "output_type": "stream",
     "text": [
      "RMSE Dimension 0: 0.035825\n",
      "RMSE Dimension 1: 0.144474\n",
      "Average RMSE: 0.090149\n"
     ]
    }
   ],
   "source": [
    "#Compute RMSE\n",
    "rmse_dim0 = np.sqrt(np.mean((y_true[:, 0] - preds[:, 0])**2))\n",
    "rmse_dim1 = np.sqrt(np.mean((y_true[:, 1] - preds[:, 1])**2))\n",
    "print(f\"RMSE Dimension 0: {rmse_dim0:.6f}\")\n",
    "print(f\"RMSE Dimension 1: {rmse_dim1:.6f}\")\n",
    "print(f\"Average RMSE: {(rmse_dim0 + rmse_dim1) / 2:.6f}\")\n"
   ]
  }
 ],
 "metadata": {
  "kernelspec": {
   "display_name": "base",
   "language": "python",
   "name": "python3"
  },
  "language_info": {
   "codemirror_mode": {
    "name": "ipython",
    "version": 3
   },
   "file_extension": ".py",
   "mimetype": "text/x-python",
   "name": "python",
   "nbconvert_exporter": "python",
   "pygments_lexer": "ipython3",
   "version": "3.11.5"
  }
 },
 "nbformat": 4,
 "nbformat_minor": 5
}
